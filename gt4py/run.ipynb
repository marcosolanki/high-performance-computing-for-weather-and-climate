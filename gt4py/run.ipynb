{
 "cells": [
  {
   "cell_type": "code",
   "execution_count": 1,
   "id": "8797d1e8-7fa2-4003-9647-103552cd3e5a",
   "metadata": {},
   "outputs": [
    {
     "name": "stdout",
     "output_type": "stream",
     "text": [
      "/users/class182/HPC4WC_venv/lib/python3.9/site-packages/setuptools/distutils_patch.py:25: UserWarning: Distutils was imported before Setuptools. This usage is discouraged and may exhibit undesirable behaviors or errors. Please use Setuptools' objects directly or at least import Setuptools first.\n",
      "  warnings.warn(\n",
      "Elapsed time for work = 3.7269978523254395s.\n"
     ]
    }
   ],
   "source": [
    "!python main.py --nx=128 --ny=128 --nz=64 --num_iter=1024 --backend=gt:gpu"
   ]
  },
  {
   "cell_type": "code",
   "execution_count": 2,
   "id": "57e44cde-478c-4daa-8a8a-6ad42ef11912",
   "metadata": {},
   "outputs": [
    {
     "name": "stdout",
     "output_type": "stream",
     "text": [
      "/users/class182/HPC4WC_venv/lib/python3.9/site-packages/setuptools/distutils_patch.py:25: UserWarning: Distutils was imported before Setuptools. This usage is discouraged and may exhibit undesirable behaviors or errors. Please use Setuptools' objects directly or at least import Setuptools first.\n",
      "  warnings.warn(\n",
      "Elapsed time for work = 3.730175495147705s.\n"
     ]
    }
   ],
   "source": [
    "!python main.py --nx=128 --ny=128 --nz=64 --num_iter=1024 --backend=cuda"
   ]
  },
  {
   "cell_type": "code",
   "execution_count": null,
   "id": "9b0233b4-cb0b-4fde-88da-6cb55c0e59e4",
   "metadata": {},
   "outputs": [],
   "source": []
  }
 ],
 "metadata": {
  "kernelspec": {
   "display_name": "HPC4WC_kernel",
   "language": "python",
   "name": "hpc4wc_kernel"
  },
  "language_info": {
   "codemirror_mode": {
    "name": "ipython",
    "version": 3
   },
   "file_extension": ".py",
   "mimetype": "text/x-python",
   "name": "python",
   "nbconvert_exporter": "python",
   "pygments_lexer": "ipython3",
   "version": "3.9.4"
  }
 },
 "nbformat": 4,
 "nbformat_minor": 5
}
