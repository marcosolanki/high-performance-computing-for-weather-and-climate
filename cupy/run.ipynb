{
 "cells": [
  {
   "cell_type": "code",
   "execution_count": 1,
   "id": "f3104faf-c877-4894-8465-585a39d40125",
   "metadata": {},
   "outputs": [
    {
     "name": "stdout",
     "output_type": "stream",
     "text": [
      "Elapsed time for work = 0.9947285652160645s.\n"
     ]
    }
   ],
   "source": [
    "!python main.py --nx=128 --ny=128 --nz=64 --num_halo=3 --num_iter=1024"
   ]
  },
  {
   "cell_type": "code",
   "execution_count": null,
   "id": "34799097-9994-4255-8acc-26a9676efa17",
   "metadata": {},
   "outputs": [],
   "source": []
  }
 ],
 "metadata": {
  "kernelspec": {
   "display_name": "HPC4WC_kernel",
   "language": "python",
   "name": "hpc4wc_kernel"
  },
  "language_info": {
   "codemirror_mode": {
    "name": "ipython",
    "version": 3
   },
   "file_extension": ".py",
   "mimetype": "text/x-python",
   "name": "python",
   "nbconvert_exporter": "python",
   "pygments_lexer": "ipython3",
   "version": "3.9.4"
  }
 },
 "nbformat": 4,
 "nbformat_minor": 5
}
